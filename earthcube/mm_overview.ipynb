{
 "cells": [
  {
   "cell_type": "code",
   "execution_count": null,
   "id": "26b841bc",
   "metadata": {
    "pycharm": {
     "name": "#%%\n"
    }
   },
   "outputs": [],
   "source": [
    "# To ignore warning messages\n",
    "import warnings\n",
    "warnings.filterwarnings('ignore')\n",
    "# Append path\n",
    "import sys\n",
    "sys.path.append('..')\n",
    "# Import the melodies-monet driver\n",
    "from melodies_monet import driver"
   ]
  },
  {
   "cell_type": "code",
   "execution_count": null,
   "id": "1d60b9f2",
   "metadata": {
    "pycharm": {
     "name": "#%%\n"
    }
   },
   "outputs": [],
   "source": [
    "an = driver.analysis()\n",
    "an.control = 'mm_overview.yaml'\n",
    "an.read_control()\n",
    "an.control_dict"
   ]
  },
  {
   "cell_type": "code",
   "execution_count": null,
   "id": "b951e00c",
   "metadata": {},
   "outputs": [],
   "source": [
    "an.open_models()\n",
    "an.models\n",
    "an.models['RACM_ESRL'].obj"
   ]
  },
  {
   "cell_type": "code",
   "execution_count": null,
   "id": "d1a0d097",
   "metadata": {},
   "outputs": [],
   "source": [
    "print(an.models['RACM_ESRL'].label)\n",
    "print(an.models['RACM_ESRL'].mapping)\n",
    "print(an.start_time)\n",
    "print(an.end_time)"
   ]
  },
  {
   "cell_type": "code",
   "execution_count": null,
   "id": "34f65561",
   "metadata": {},
   "outputs": [],
   "source": [
    "an.open_obs()\n",
    "an.obs['AirNow'].obj"
   ]
  },
  {
   "cell_type": "code",
   "execution_count": null,
   "id": "d4420817",
   "metadata": {},
   "outputs": [],
   "source": [
    "an.pair_data()"
   ]
  },
  {
   "cell_type": "code",
   "execution_count": null,
   "id": "bfdc2693",
   "metadata": {},
   "outputs": [],
   "source": [
    "an.plotting()"
   ]
  }
 ],
 "metadata": {
  "kernelspec": {
   "display_name": "Python 3 (ipykernel)",
   "language": "python",
   "name": "python3"
  },
  "language_info": {
   "codemirror_mode": {
    "name": "ipython",
    "version": 3
   },
   "file_extension": ".py",
   "mimetype": "text/x-python",
   "name": "python",
   "nbconvert_exporter": "python",
   "pygments_lexer": "ipython3",
   "version": "3.9.7"
  }
 },
 "nbformat": 4,
 "nbformat_minor": 5
}
