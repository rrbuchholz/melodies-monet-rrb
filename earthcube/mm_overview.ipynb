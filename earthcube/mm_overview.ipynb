{
 "cells": [
  {
   "cell_type": "code",
   "execution_count": null,
   "id": "c9e1d18b",
   "metadata": {
    "pycharm": {
     "name": "#%%\n"
    }
   },
   "outputs": [],
   "source": [
    "# To ignore warning messages\n",
    "import warnings\n",
    "warnings.filterwarnings('ignore')\n",
    "# Append path\n",
    "import sys\n",
    "sys.path.append('..')\n",
    "# Import the melodies-monet driver\n",
    "from melodies_monet import driver"
   ]
  },
  {
   "cell_type": "code",
   "execution_count": null,
   "id": "fd4cd965",
   "metadata": {
    "pycharm": {
     "name": "#%%\n"
    }
   },
   "outputs": [],
   "source": [
    "an = driver.analysis()\n",
    "an.control = 'mm_overview.yaml'\n",
    "an.read_control()\n",
    "an.control_dict"
   ]
  },
  {
   "cell_type": "code",
   "execution_count": null,
   "id": "6197792f",
   "metadata": {},
   "outputs": [],
   "source": [
    "an.open_models()\n",
    "an.models\n",
    "an.models['CAM_Chem'].obj"
   ]
  },
  {
   "cell_type": "code",
   "execution_count": null,
   "id": "95750702",
   "metadata": {},
   "outputs": [],
   "source": [
    "print(an.models['CAM_Chem'].label)\n",
    "print(an.models['CAM_Chem'].mapping)\n",
    "print(an.start_time)\n",
    "print(an.end_time)"
   ]
  },
  {
   "cell_type": "code",
   "execution_count": null,
   "id": "ba867ad2",
   "metadata": {},
   "outputs": [],
   "source": [
    "an.open_obs()\n",
    "an.obs['AirNow'].obj"
   ]
  },
  {
   "cell_type": "code",
   "execution_count": null,
   "id": "db793dbd",
   "metadata": {},
   "outputs": [],
   "source": [
    "an.pair_data()"
   ]
  },
  {
   "cell_type": "code",
   "execution_count": null,
   "id": "8c303310",
   "metadata": {},
   "outputs": [],
   "source": [
    "an.plotting()"
   ]
  },
  {
   "cell_type": "code",
   "execution_count": null,
   "id": "dc17946a",
   "metadata": {},
   "outputs": [],
   "source": []
  }
 ],
 "metadata": {
  "kernelspec": {
   "display_name": "Python 3 (ipykernel)",
   "language": "python",
   "name": "python3"
  },
  "language_info": {
   "codemirror_mode": {
    "name": "ipython",
    "version": 3
   },
   "file_extension": ".py",
   "mimetype": "text/x-python",
   "name": "python",
   "nbconvert_exporter": "python",
   "pygments_lexer": "ipython3",
   "version": "3.9.7"
  }
 },
 "nbformat": 4,
 "nbformat_minor": 5
}
