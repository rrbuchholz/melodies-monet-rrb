{
 "cells": [
  {
   "cell_type": "code",
   "execution_count": null,
   "outputs": [],
   "source": [
    "# To ignore warning messages\n",
    "import warnings\n",
    "warnings.filterwarnings('ignore')\n",
    "\n",
    "# Import the melodies-monet driver\n",
    "from melodies_monet import driver"
   ],
   "metadata": {
    "collapsed": false,
    "pycharm": {
     "name": "#%%\n"
    }
   }
  },
  {
   "cell_type": "code",
   "source": [
    "an = driver.analysis()\n",
    "an.control = 'mm_overview.yaml'\n",
    "an.read_control()\n",
    "an.control_dict"
   ],
   "metadata": {
    "collapsed": false,
    "pycharm": {
     "name": "#%%\n"
    }
   },
   "execution_count": null,
   "outputs": []
  },
  {
   "cell_type": "markdown",
   "id": "029cf528",
   "metadata": {
    "pycharm": {
     "name": "#%% md\n"
    }
   },
   "source": [
    "an.open_models()\n",
    "an.models"
   ]
  },
  {
   "cell_type": "code",
   "execution_count": null,
   "id": "6d9f2710",
   "metadata": {},
   "outputs": [],
   "source": [
    "an.models['RACM_ESRL'].obj"
   ]
  },
  {
   "cell_type": "code",
   "execution_count": null,
   "id": "e2f39e19",
   "metadata": {},
   "outputs": [],
   "source": [
    "print(an.models['RACM_ESRL'].label)\n",
    "print(an.models['RACM_ESRL'].mapping)\n",
    "print(an.start_time)\n",
    "print(an.end_time)"
   ]
  },
  {
   "cell_type": "code",
   "execution_count": null,
   "id": "273058fd",
   "metadata": {},
   "outputs": [],
   "source": [
    "an.open_obs()\n",
    "an.obs['AirNow'].obj"
   ]
  },
  {
   "cell_type": "code",
   "execution_count": null,
   "id": "d1afc419",
   "metadata": {},
   "outputs": [],
   "source": [
    "an.pair_data()"
   ]
  },
  {
   "cell_type": "code",
   "execution_count": null,
   "id": "706d4422",
   "metadata": {},
   "outputs": [],
   "source": [
    "an.plotting()"
   ]
  }
 ],
 "metadata": {
  "kernelspec": {
   "display_name": "Python 3 (ipykernel)",
   "language": "python",
   "name": "python3"
  },
  "language_info": {
   "codemirror_mode": {
    "name": "ipython",
    "version": 3
   },
   "file_extension": ".py",
   "mimetype": "text/x-python",
   "name": "python",
   "nbconvert_exporter": "python",
   "pygments_lexer": "ipython3",
   "version": "3.9.7"
  }
 },
 "nbformat": 4,
 "nbformat_minor": 5
}