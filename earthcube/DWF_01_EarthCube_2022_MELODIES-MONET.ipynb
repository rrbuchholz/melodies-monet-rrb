{
 "cells": [
  {
   "cell_type": "markdown",
   "metadata": {},
   "source": [
    "# Air Quality from Local to Global Scales:\n",
    "# An Introduction to the MELODIES-MONET Python Package"
   ]
  },
  {
   "cell_type": "markdown",
   "metadata": {},
   "source": [
    "## Author(s)\n",
    "\n",
    "- Author = {\"name\": \"David Fillmore\", \"affiliation\": \"NCAR\", \"email\": \"fillmore@ucar.edu\"}\n"
   ]
  },
  {
   "cell_type": "markdown",
   "metadata": {},
   "source": [
    "## Purpose\n",
    "An Introduction to the MELODIES-MONET Python Package\n",
    "\n",
    "## Technical Contributions\n",
    "\n",
    "MELODIES (Model Evaluation using Observations, Diagnostics and Experiments Software) is a modular python framework for evaluation and assessment of regional and global atmospheric chemistry models.  Its core functionality includes the spatial and temporal alignment of a diverse set of model and observational datasets, including observations from surface networks, aircraft, and Earth orbiting satellites.  In addition to a standard suite of spatial pattern and time series plots, MELODIES generates a set of statistical metrics, and is designed to be both highly extensible and customizable.\n",
    "\n",
    "MELODIES incorporates the python package MONET (Model and Observation Evaluation Toolkit), in particular its dataset readers and plotting library.  The combined MELODIES-MONET package is further based on the pandas (for time series) and the xarray/numpy (for numerical array computations) python modules.  This Jupyter notebook gives an overview of the essential functionality of MELODIES-MONET, and includes several examples for exploring and visualizing air quality data.\n",
    "\n",
    "## Methodology\n",
    "\n",
    "## Results\n",
    "\n",
    "## Funding\n",
    "\n",
    "- Award = {\"agency\": \"NSF EarthCube\", \"award_code\": \"award_code\", \"award_URL\": \"award_URL\"}\n",
    "\n",
    "## Keywords\n",
    "\n",
    "keywords=[\"Air Quality\", \"Python\", \"MELODIES-MONET\", \"MODIS\", \"AeroNet\"]\n",
    "\n",
    "## Work In Progress - Improvements\n",
    "\n",
    "Notable TODOs:\n",
    "- todo;\n",
    "- todo;"
   ]
  },
  {
   "cell_type": "markdown",
   "metadata": {},
   "source": [
    "# Setup\n",
    "\n",
    "## Local Library Import"
   ]
  },
  {
   "cell_type": "code",
   "execution_count": null,
   "metadata": {},
   "outputs": [],
   "source": [
    "# To ignore warning messages\n",
    "import warnings\n",
    "warnings.filterwarnings('ignore')\n",
    "# Append path\n",
    "import sys\n",
    "sys.path.append('..')\n",
    "# Import the melodies-monet driver\n",
    "from melodies_monet import driver"
   ]
  },
  {
   "cell_type": "markdown",
   "metadata": {},
   "source": [
    "# Parameter Definitions"
   ]
  },
  {
   "cell_type": "code",
   "execution_count": null,
   "metadata": {},
   "outputs": [],
   "source": [
    "an = driver.analysis()\n",
    "an.control = 'mm_overview.yaml'\n",
    "an.read_control()\n",
    "an.control_dict"
   ]
  },
  {
   "cell_type": "markdown",
   "metadata": {},
   "source": [
    "# Data Import"
   ]
  },
  {
   "cell_type": "code",
   "execution_count": null,
   "metadata": {},
   "outputs": [],
   "source": [
    "an.open_models()\n",
    "an.models\n",
    "an.models['CAM_Chem'].obj"
   ]
  },
  {
   "cell_type": "code",
   "execution_count": null,
   "metadata": {},
   "outputs": [],
   "source": [
    "print(an.models['CAM_Chem'].label)\n",
    "print(an.models['CAM_Chem'].mapping)\n",
    "print(an.start_time)\n",
    "print(an.end_time)"
   ]
  },
  {
   "cell_type": "code",
   "execution_count": null,
   "metadata": {},
   "outputs": [],
   "source": [
    "an.open_obs()\n",
    "an.obs['AirNow'].obj"
   ]
  },
  {
   "cell_type": "markdown",
   "metadata": {},
   "source": [
    "# Data Processing and Analysis"
   ]
  },
  {
   "cell_type": "code",
   "execution_count": null,
   "metadata": {},
   "outputs": [],
   "source": [
    "an.pair_data()"
   ]
  },
  {
   "cell_type": "code",
   "execution_count": null,
   "metadata": {},
   "outputs": [],
   "source": [
    "an.plotting()"
   ]
  }
 ],
 "metadata": {
  "kernelspec": {
   "display_name": "Python 3 (ipykernel)",
   "language": "python",
   "name": "python3"
  },
  "language_info": {
   "codemirror_mode": {
    "name": "ipython",
    "version": 3
   },
   "file_extension": ".py",
   "mimetype": "text/x-python",
   "name": "python",
   "nbconvert_exporter": "python",
   "pygments_lexer": "ipython3",
   "version": "3.9.7"
  },
  "toc": {
   "base_numbering": 1,
   "nav_menu": {},
   "number_sections": true,
   "sideBar": true,
   "skip_h1_title": false,
   "title_cell": "Table of Contents",
   "title_sidebar": "Contents",
   "toc_cell": false,
   "toc_position": {
    "height": "calc(100% - 180px)",
    "left": "10px",
    "top": "150px",
    "width": "248.182px"
   },
   "toc_section_display": true,
   "toc_window_display": true
  }
 },
 "nbformat": 4,
 "nbformat_minor": 4
}
