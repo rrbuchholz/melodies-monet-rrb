{
 "cells": [
  {
   "cell_type": "markdown",
   "metadata": {},
   "source": [
    "# Air Quality from Local to Global Scales:\n",
    "# An Introduction to the MELODIES-MONET Python Package"
   ]
  },
  {
   "cell_type": "markdown",
   "metadata": {},
   "source": [
    "## Author(s)\n",
    "\n",
    "Fillmore, David (1); Schwantes, Rebecca (2,4); Buchholz, Rebecca (1); Jo, Duseong (1); Emmons, Louisa (1); Li, Meng (2,4); He, Jian (2,4); Baker, Barry (3); Moon, Zachary (3); Bruckner, Margaret (5)\n",
    "\n",
    "fillmore@ucar.edu\n",
    "\n",
    "Organization(s): 1: National Center for Atmospheric Research - Atmospheric Chemistry Observations and Modeling; 2: National Oceanic and Atmospheric Administration - Chemical Sciences Laboratory; 3: National Oceanic and Atmospheric Administration - Air Resources Laboratory; 4: Cooperative Institute for Research in Environmental Sciences - University of Colorado, Boulder; 5: University of Wisconsin, Madison\n"
   ]
  },
  {
   "cell_type": "markdown",
   "metadata": {},
   "source": [
    "## Purpose\n",
    "\n",
    "An Introduction to the MELODIES-MONET Python Package\n",
    "\n",
    "## Technical Contributions\n",
    "\n",
    "MELODIES (Model Evaluation using Observations, Diagnostics and Experiments Software) is a modular python framework for evaluation and assessment of regional and global atmospheric chemistry models.  Its core functionality includes the spatial and temporal alignment of a diverse set of model and observational datasets, including observations from surface networks, aircraft, and Earth orbiting satellites.  In addition to a standard suite of spatial pattern and time series plots, MELODIES generates a set of statistical metrics, and is designed to be both highly extensible and customizable.\n",
    "\n",
    "MELODIES incorporates the python package MONET (Model and Observation Evaluation Toolkit), in particular its dataset readers and plotting library.  The combined MELODIES-MONET package is further based on the pandas (for time series) and the xarray/numpy (for numerical array computations) python modules.  This Jupyter notebook gives an overview of the essential functionality of MELODIES-MONET, and includes several examples for exploring and visualizing air quality data.\n",
    "\n",
    "## Methodology\n",
    "\n",
    "The need for MELODIES (Model EvaLuation using Observations, DIagnostics \n",
    "and Experiments Software) arose when the study of atmospheric chemistry \n",
    "moved towards a unified approach. Specifically, the MUlti-scale \n",
    "Infrastructure for Chemistry and Aerosols (MUSICA) developed by the \n",
    "Atmospheric Chemistry Observations & Modeling (ACOM) Laboratory at NCAR \n",
    "simultaneously studies atmospheric composition across multiple scales. \n",
    "New models required re-writing of old-code to handle the variable \n",
    "resolution of model grids. Concurrently, measurement techniques and \n",
    "modeling are improving and becoming more complex, requiring updated \n",
    "comparisons at many different temporal, spatial and chemical scales. \n",
    "This provided an opportunity to create harmonized and consistent analysis \n",
    "tools for the atmospheric chemistry community. MELODIES is a project funded \n",
    "by NSF EarthCube that aims to address these concerns by developing a \n",
    "modular framework to compare model results and observations related to \n",
    "atmospheric chemistry. It aims to facilitate the use of diverse \n",
    "observational datasets in model evaluation. MELODIES combined with \n",
    "NOAA's MONET to leverage shared goals and development. MELODIES MONET\n",
    "consists of components to manipulate both observations and model output, \n",
    "to allow for consistent quantitative comparisons with long-term and \n",
    "field intensive observations.\n",
    "\n",
    "\n",
    "### Aims of MELODIES MONET\n",
    "\n",
    "MELODIES MONET aims to help researchers systematically and reproducibly compare \n",
    "global and regional atmospheric chemistry model output with measurements and/or \n",
    "other models. It aims to overcome several challenges, including providing access \n",
    "to the complex atmospheric chemistry datasets (numerous compounds with complex, \n",
    "non-standardized names, various time and spatial sampling, different instruments \n",
    "and platforms), as well as routines to extract model results at appropriate time \n",
    "and spatial resolutions to quantitatively compare to the observations. Currently \n",
    "MELODIES MONET provides an initial structure that we hope well grow into a \n",
    "comprehensive analysis package in the future. Our goals are:\n",
    "\n",
    "- Well documented for easy use by the community\n",
    "- Written to be user-friendly with easy customization\n",
    "- Written in open-source programming languages, mainly Python \n",
    "- Publicly available through GitHub: https://github.com/NOAA-CSL/MELODIES-MONET\n",
    "- Keep the code and structure of MELODIES MONET simple and easy to understand \n",
    "  in order to encourage the community development of the code\n",
    "- Maintain capabilities to produce hundreds of plots for quick diagnostic\n",
    "  assessments while also being flexible enough to produce publication quality\n",
    "  plots\n",
    "\n",
    "### Connection with NOAA's MONET\n",
    "\n",
    "At the same time that a need for MELODIES was identified, NOAA was developing \n",
    "a tool to be used for the automated comparison of model forecasts and \n",
    "measurements at ground stations in the USA. Thus, the Model and ObservatioN \n",
    "Evaluation Toolkit (MONET) was created (Baker and Pan, 2017). The usefulness \n",
    "for the broader community was quickly realized and the clear overlap between \n",
    "the two projects allowed collaboration between NCAR and NOAA and the creation \n",
    "of the MELODIES MONET project.\n",
    "\n",
    "MONET specifically encompasses two packages:\n",
    "\n",
    "   * MONET I/O package that focuses on importing and exporting model and observational \n",
    "     data into the necessary formats for further analysis (https://monetio.readthedocs.io), and \n",
    "   * MONET base package that sets up universal functions such as re-gridding and nearest \n",
    "     neighbor calculations (https://monet-arl.readthedocs.io/).\n",
    "\n",
    "The two MONET packages above are used by MELODIES MONET to complete analysis \n",
    "and plotting. Most users will only need to work with the MELODIES MONET \n",
    "code-set to complete their desired analysis.\n",
    "\n",
    "### Supported Datasets\n",
    "\n",
    "Supported Models and Observations are below.\n",
    "\n",
    "### Supported Models\n",
    "\n",
    "   * CMAQ https://www.epa.gov/cmaq/\n",
    "   * WRF-Chem https://ruc.noaa.gov/wrf/wrf-chem/\n",
    "   * CESM/CAM-chem https://www2.acom.ucar.edu/gcm/cam-chem\n",
    "   * RRFS-CMAQ (under development)\n",
    "   * GSD-Chem (under development)\n",
    "\n",
    "In general, processing requires input to be in netCDF format. For the above \n",
    "models, scripts to configure the model data into a standard format for \n",
    "MELODIES MONET are available. If input datasets are in netCDF format and  \n",
    "define latitude, longitude, altitude, and a datetime object, MELODIES MONET may be able \n",
    "to directly read the input files.\n",
    "\n",
    "See the expand models https://github.com/NOAA-CSL/MELODIES-MONET/projects/8\n",
    "project on GitHub to learn about current and future development.\n",
    "\n",
    "### Supported Observations\n",
    "\n",
    "#### Surface\n",
    "\n",
    "   * AirNow https://www.airnow.gov/ \n",
    "   * AERONET <https://aeronet.gsfc.nasa.gov/ (under development)\n",
    "   * IMPROVE <http://vista.cira.colostate.edu/Improve/ (under development)\n",
    "   * AQS <https://www.epa.gov/aqs/ (in MONET, coming soon to MELODIES MONET)\n",
    "   * CRN <https://www.ncdc.noaa.gov/crn/ (in MONET, coming soon to MELODIES MONET)\n",
    "   * TOLNet <https://www-air.larc.nasa.gov/missions/TOLNet/ \n",
    "     (in MONET, coming soon to MELODIES MONET)\n",
    "   * CEMS https://www.epa.gov/emc/emc-continuous-emission-monitoring-systems/ \n",
    "     (in MONET, coming soon to MELODIES MONET)\n",
    "   * ISD <https://www.ncdc.noaa.gov/isd/ (in MONET, coming soon to MELODIES MONET)\n",
    "   \n",
    "See the expand surface observations https://github.com/NOAA-CSL/MELODIES-MONET/projects/7 \n",
    "project on GitHub to learn about current and future development.\n",
    "\n",
    "#### Aircraft (under development)\n",
    "\n",
    "   * FIREX-AQ <https://csl.noaa.gov/projects/firex-aq/ (under development)\n",
    "   * ATom <https://espo.nasa.gov/atom/content/ATom (under development)\n",
    "   \n",
    "See the incorporate aircraft evaluation https://github.com/NOAA-CSL/MELODIES-MONET/projects/4\n",
    "project on GitHub to learn about current and future development.\n",
    "\n",
    "#### Satellite (under development)\n",
    "\n",
    "See the incorporate satellite evaluation https://github.com/NOAA-CSL/MELODIES-MONET/projects/6\n",
    "project on GitHub to learn about current and future development.\n",
    "\n",
    "\n",
    "## Funding\n",
    "\n",
    "NSF EarthCube\n",
    "\n",
    "## Keywords\n",
    "\n",
    "Atmospheric Modeling, Air Quality, Python, MELODIES-MONET\n",
    "\n",
    "## Work In Progress - Improvements\n",
    "\n",
    "Notable TODOs:\n",
    "- todo;\n",
    "- todo;"
   ]
  },
  {
   "cell_type": "markdown",
   "metadata": {},
   "source": [
    "# Setup\n",
    "\n",
    "## Local Library Import"
   ]
  },
  {
   "cell_type": "code",
   "execution_count": null,
   "metadata": {},
   "outputs": [],
   "source": [
    "# To ignore warning messages\n",
    "import warnings\n",
    "warnings.filterwarnings('ignore')\n",
    "# Append path\n",
    "import sys\n",
    "sys.path.append('..')\n",
    "# Import the melodies-monet driver\n",
    "from melodies_monet import driver"
   ]
  },
  {
   "cell_type": "markdown",
   "metadata": {},
   "source": [
    "# Parameter Definitions"
   ]
  },
  {
   "cell_type": "code",
   "execution_count": null,
   "metadata": {},
   "outputs": [],
   "source": [
    "an = driver.analysis()\n",
    "an.control = 'mm_overview_wrfchem.yaml'\n",
    "an.read_control()\n",
    "an.control_dict"
   ]
  },
  {
   "cell_type": "markdown",
   "metadata": {},
   "source": [
    "# Data Import"
   ]
  },
  {
   "cell_type": "code",
   "execution_count": null,
   "metadata": {},
   "outputs": [],
   "source": [
    "an.open_models()\n",
    "an.models\n",
    "model_key = 'RACM_ESRL'\n",
    "an.models[model_key].obj"
   ]
  },
  {
   "cell_type": "code",
   "execution_count": null,
   "metadata": {},
   "outputs": [],
   "source": [
    "print(an.models[model_key].label)\n",
    "print(an.models[model_key].mapping)\n",
    "print(an.start_time)\n",
    "print(an.end_time)"
   ]
  },
  {
   "cell_type": "code",
   "execution_count": null,
   "metadata": {},
   "outputs": [],
   "source": [
    "an.open_obs()\n",
    "an.obs['AirNow'].obj"
   ]
  },
  {
   "cell_type": "markdown",
   "metadata": {},
   "source": [
    "# Data Processing and Analysis"
   ]
  },
  {
   "cell_type": "code",
   "execution_count": null,
   "metadata": {},
   "outputs": [],
   "source": [
    "an.pair_data()"
   ]
  },
  {
   "cell_type": "code",
   "execution_count": null,
   "metadata": {},
   "outputs": [],
   "source": [
    "an.plotting()"
   ]
  }
 ],
 "metadata": {
  "kernelspec": {
   "display_name": "Python 3 (ipykernel)",
   "language": "python",
   "name": "python3"
  },
  "language_info": {
   "codemirror_mode": {
    "name": "ipython",
    "version": 3
   },
   "file_extension": ".py",
   "mimetype": "text/x-python",
   "name": "python",
   "nbconvert_exporter": "python",
   "pygments_lexer": "ipython3",
   "version": "3.9.7"
  },
  "toc": {
   "base_numbering": 1,
   "nav_menu": {},
   "number_sections": true,
   "sideBar": true,
   "skip_h1_title": false,
   "title_cell": "Table of Contents",
   "title_sidebar": "Contents",
   "toc_cell": false,
   "toc_position": {
    "height": "calc(100% - 180px)",
    "left": "10px",
    "top": "150px",
    "width": "248.182px"
   },
   "toc_section_display": true,
   "toc_window_display": true
  }
 },
 "nbformat": 4,
 "nbformat_minor": 4
}
